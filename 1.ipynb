{
 "cells": [
  {
   "cell_type": "markdown",
   "metadata": {},
   "source": [
    "### 1\n",
    "\n",
    "Collecting data from customers purchasing items at a store allows for the usage of this data to create various predictive models about customers and their activity. Assuming that the store is relatively large, it will have millions of customers and billions of different transactions covering large amounts of different user profiles. Since this data covers all activity in the store we can use various statistical learning methods to try to predict future metrics. For example we can try to predict how much of a product needs to be stocked so that most of it will be sold or recommend products to users based on their purchase history to optimize their spending at the store. These models can be further augmented by looking at external factors that could affect the predicted variables like analyzing social media and search trends and so on.\n",
    "\n",
    "Similarily one could collect data from users' car steering status and cameras inside the cars to create a predictive model for what the status of the steering and acceleration for the car needs to be at any given time. Here we need big data since the problem of driving is extremely complex and to solve the massive amount of different corner cases the algorithm requires examples of such instances to learn to adjust to them.\n",
    "\n",
    "### 2\n",
    "C. Social Media\n",
    "\n",
    "### 3\n",
    "A. Companies can't afford to own, maintain, and spend the energy to support large data storage unless the cost is sufficiently low.\n",
    "\n",
    "### 4\n",
    "A. Being able to obtain and use customer information for groups of consumers and utilize them for marketing needs.\n",
    "\n",
    "### 5\n",
    "A. Google ordering ads to show items based on recent and past search results.\n",
    "\n",
    "### 6\n",
    "A. Big Data -> Better Models -> Higher Precision\n",
    "\n",
    "### 7\n",
    "D. Machine Data, Organizational Data, and People\n",
    "\n",
    "### 8\n",
    "B. Weather station sensor output.\n",
    "\n",
    "### 9\n",
    "B. People\n",
    "\n",
    "### 10\n",
    "A. Bringing the computation to the location of the data.\n",
    "\n",
    "### 11\n",
    "B. High Veracity\n",
    "\n",
    "### 12 \n",
    "A. Complex Data Exploration Algorithms\n",
    "\n",
    "### 13\n",
    "\n",
    "A. Value\n",
    "B. Velocity\n",
    "C. Volume\n",
    "D. Veracity\n",
    "E. Variety\n",
    "G. Valence\n",
    "\n",
    "### 14\n",
    "D.20000\n",
    "\n",
    "### 15\n",
    "B. Niobrara"
   ]
  },
  {
   "cell_type": "markdown",
   "metadata": {},
   "source": []
  },
  {
   "cell_type": "code",
   "execution_count": null,
   "metadata": {},
   "outputs": [],
   "source": []
  }
 ],
 "metadata": {
  "kernelspec": {
   "display_name": "Python 3",
   "language": "python",
   "name": "python3"
  },
  "language_info": {
   "codemirror_mode": {
    "name": "ipython",
    "version": 3
   },
   "file_extension": ".py",
   "mimetype": "text/x-python",
   "name": "python",
   "nbconvert_exporter": "python",
   "pygments_lexer": "ipython3",
   "version": "3.7.3"
  }
 },
 "nbformat": 4,
 "nbformat_minor": 2
}
