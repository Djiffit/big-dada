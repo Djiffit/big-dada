{
 "cells": [
  {
   "cell_type": "markdown",
   "metadata": {},
   "source": [
    "# 1\n",
    "\n",
    "C. Data is unbounded in size but requires only finite time and space to process it.\n",
    "\n",
    "# 2\n",
    "\n",
    "C. Fast and Simple\n",
    "\n",
    "# 3\n",
    "\n",
    "C. A method to process streaming data by utilizing batch processing and real time processing.\n",
    "\n",
    "# 4\n",
    "\n",
    "A. The size and frequency of the streaming data may be sporadic.\n",
    "\n",
    "# 5\n",
    "\n",
    "C. Data lakes house raw data while data warehouses contain pre-formatted data.\n",
    "\n",
    "# 6 \n",
    "\n",
    "A. The process where formatted data is given structure when read.\n",
    "\n",
    "# 7\n",
    "\n",
    "D. A storage repository holding raw data in its native format\n",
    "\n",
    "# 8 \n",
    "\n",
    "B. Continuous data ingestion\n",
    "C. A full query language\n",
    "E. A flexible semi-structured data model\n",
    "F. Support for common “Big Data” data types\n",
    "\n",
    "# 9\n",
    "\n",
    "D. it is impossible to have consistency, availability, and partition tolerance\n",
    "\n",
    "# 10\n",
    "\n",
    "B. To impose properties on a BDMS in order to guarantee certain results.\n",
    "\n",
    "# 11\n",
    "\n",
    "ACID consistency considers only a single database node and means that the database actions will not violate the schema of thedatabase, whereas the CAP theorem states that the entire distributed database has to be consistent among the replicated copies in terms of the values they hold. \n",
    "\n",
    "# 12\n",
    "\n",
    "A data lake is a place to store all kinds of data in their original formats to wait until some other process in the organization has need for the data. When the need arises, the user is resposible for loading and transforming the data into a format they require.\n",
    "\n",
    "A data warehouse is a smaller scale data storage system than a data lake and it contains data in some format to query the data easily in order to do analysis or train models etc. They do not contain all possible data, but rather the parts that are interesting for the purpose that the warehouse serves.\n",
    "\n",
    "A data mart is a even smaller entity that has even more domain specific data. It allows for isolating some data from a data warehouse to support some specific application. This allows for a more secure way of accessing some but not all the data in the warehouse and the system is not affected when someone runs some expensive algorithms on the data in the data warehouse for analysis."
   ]
  }
 ],
 "metadata": {
  "kernelspec": {
   "display_name": "Python 3",
   "language": "python",
   "name": "python3"
  },
  "language_info": {
   "codemirror_mode": {
    "name": "ipython",
    "version": 3
   },
   "file_extension": ".py",
   "mimetype": "text/x-python",
   "name": "python",
   "nbconvert_exporter": "python",
   "pygments_lexer": "ipython3",
   "version": "3.7.3"
  }
 },
 "nbformat": 4,
 "nbformat_minor": 2
}
