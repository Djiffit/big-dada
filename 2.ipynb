{
 "cells": [
  {
   "cell_type": "markdown",
   "metadata": {},
   "source": [
    "### 1\n",
    "\n",
    "The sort-merge join first maps each record into keys of (tag, (key)), where tag is the value of the join condition i.e. R.A or S.B and key represents which table the value is from, setting the larger table key to be 1 and smaller to 0. When the reducer gets pairs with the key of 1 it will start doing the joins with all the 0's of that key, producing the final joined data.\n",
    "\n",
    "The map side join takes a partition which contains all the values by a single key into the single map task and then the map does the join and outputs the joined rows. Here we obviously need small enough partitions that we can fit in memory and need some previous phases where the sorting by id is done."
   ]
  },
  {
   "cell_type": "markdown",
   "metadata": {},
   "source": [
    "\n",
    "### 2\n",
    "\n",
    "![wordcount results](2-hadoop.png)\n",
    "\n",
    "So the word appears 6 times."
   ]
  },
  {
   "cell_type": "markdown",
   "metadata": {},
   "source": [
    "### 3\n",
    "![wordcount results](2-hadoop-median.png)\n",
    "Median: 4"
   ]
  },
  {
   "cell_type": "markdown",
   "metadata": {},
   "source": [
    "### 4\n",
    "C. Compute the inverted indices\n",
    "\n",
    "D. Summarize the number of pages crawled per host\n",
    "\n",
    "### 5\n",
    "\n",
    "A. fault-tolerance\n",
    "\n",
    "B. data distribution\n",
    "\n",
    "D. load balancing\n",
    "\n",
    "### 6\n",
    "A. Each Mapper can do something to each individual key-value pair.\n",
    "\n",
    "C. Each Reducer can aggregate data.\n",
    "\n",
    "### 7\n",
    "C. 80\n"
   ]
  },
  {
   "cell_type": "code",
   "execution_count": null,
   "metadata": {},
   "outputs": [],
   "source": []
  },
  {
   "cell_type": "code",
   "execution_count": null,
   "metadata": {},
   "outputs": [],
   "source": []
  },
  {
   "cell_type": "code",
   "execution_count": null,
   "metadata": {},
   "outputs": [],
   "source": []
  },
  {
   "cell_type": "code",
   "execution_count": null,
   "metadata": {},
   "outputs": [],
   "source": []
  },
  {
   "cell_type": "code",
   "execution_count": null,
   "metadata": {},
   "outputs": [],
   "source": []
  },
  {
   "cell_type": "code",
   "execution_count": null,
   "metadata": {},
   "outputs": [],
   "source": []
  },
  {
   "cell_type": "code",
   "execution_count": null,
   "metadata": {},
   "outputs": [],
   "source": []
  },
  {
   "cell_type": "code",
   "execution_count": null,
   "metadata": {},
   "outputs": [],
   "source": []
  },
  {
   "cell_type": "code",
   "execution_count": null,
   "metadata": {},
   "outputs": [],
   "source": []
  }
 ],
 "metadata": {
  "kernelspec": {
   "display_name": "Python 3",
   "language": "python",
   "name": "python3"
  },
  "language_info": {
   "codemirror_mode": {
    "name": "ipython",
    "version": 3
   },
   "file_extension": ".py",
   "mimetype": "text/x-python",
   "name": "python",
   "nbconvert_exporter": "python",
   "pygments_lexer": "ipython3",
   "version": "3.7.3"
  }
 },
 "nbformat": 4,
 "nbformat_minor": 2
}
