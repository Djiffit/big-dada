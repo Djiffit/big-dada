{
 "cells": [
  {
   "cell_type": "markdown",
   "metadata": {},
   "source": [
    "# 1\n",
    "\n",
    "Force Atlas is based on repulsion and attraction to find the connections in the network. It uses attraction, repulsion and gravity variables to control how wide the spread is from the center and how powerful the attraction and repulsion are. Since it is a quite intuitive algorithm, it is easy to interpret, but it works in O(N^2) time so it can be very slow on big datasets.\n",
    "\n",
    "Fruchterman-Reingold works with similar force-based approach, but it only has variables to control the spread so the resulting graphs may end up as a one big ball instead of multiple different clusters.\n",
    "\n",
    "ARF is also based on attraction and repulsion. It provides Neighbor attraction force  to modify the local strengths and a precision variable to make the graph more accurate at the cost of extra work. So ARF is the most modifiable of the force based methods.\n",
    "\n",
    "Yifan Hu also uses attraction and repulsion but the neighborhood and not on the entire graph bringing down the time complexity and allowing for larger datasets to be used. It is possible since it is a multilevel algorithm and it has variables to control how many nodes there are at each level and a minimum coarsening rate which specifies how different the levels are.\n",
    "\n",
    "Radial Axis layout is one that works in linear time and it tries to find groups that differ from a central circle along various axes, here the user needs to specify how the axes should be laid out, allowing for the faster runtime.\n",
    "\n"
   ]
  },
  {
   "cell_type": "markdown",
   "metadata": {},
   "source": [
    "# 2\n",
    "\n",
    "A. List files in / hdfs dfs –ls /\n",
    "\n",
    "B. Make a directory hdfs dfs –mkdir /user/test\n",
    "\n",
    "C. Runs the HDFS filesystem checking utility hdfs fsck /user/test"
   ]
  },
  {
   "cell_type": "markdown",
   "metadata": {},
   "source": [
    "# 3\n",
    "\n",
    "A. HDFS is less robust\n",
    "\n",
    "B. Less likely that data will be local to more workers\n",
    "\n",
    "D. HDFS will have more space available"
   ]
  },
  {
   "cell_type": "markdown",
   "metadata": {},
   "source": [
    "# 4"
   ]
  },
  {
   "cell_type": "markdown",
   "metadata": {},
   "source": [
    "(1) SELECT Firstname, Lastname from Student;\n",
    "\n",
    "(2) SELECT * FROM Student WHERE Major != 'CS';\n",
    "\n",
    "(3) SELECT * FROM Student WHERE left(Firstname, 1) = 'J' and left(Lastname, 1) = 'S';\n",
    "\n",
    "(4) UPDATE Student SET Major = 'CS' WHERE studentid = 101;"
   ]
  },
  {
   "cell_type": "markdown",
   "metadata": {},
   "source": [
    "# 5\n",
    "\n",
    "a)\n",
    "\n",
    "| R.C | S.C | A  | B  | D  | E  |\n",
    "|-----|-----|----|----|----|----|\n",
    "| c1  | c1  | a1 | b1 | d1 | e1 |\n",
    "| c1  | c2  | a1 | b1 | d2 | e2 |\n",
    "| c3  | c1  | a3 | b3 | d1 | e1 |\n",
    "| c3  | c2  | a3 | b3 | d2 | e2 |\n",
    "\n",
    "b)\n",
    "\n",
    "| R.C | S.C | A  | B  | D  | E  |\n",
    "|-----|-----|----|----|----|----|\n",
    "| c1  | c1  | a1 | b1 | d1 | e1 |\n",
    "\n",
    "c)\n",
    "\n",
    "| C | A  | B  |\n",
    "|-----|----|----|\n",
    "| c1  | a1 | b1 | \n",
    "\n",
    "d)\n",
    "\n",
    "| C | A  | B  | D  | E  |\n",
    "|-----|----|----|----|----|\n",
    "| c1  | a1 | b1 | d1 | e1 |\n",
    "| c3  | a3 | b3 | null | null |\n",
    "\n",
    "e)\n",
    "\n",
    "| R.C | S.C | A  | B  | D  | E  |\n",
    "|-----|-----|----|----|----|----|\n",
    "| c1  | c1  | a1 | b1 | d1 | e1 |\n",
    "| null  | c2  | null | null | d2 | e2 |\n",
    "| c3  | null  | a3 | b3 | null | null |\n",
    "| null  | c2  | null | null | d2 | e2 |"
   ]
  }
 ],
 "metadata": {
  "kernelspec": {
   "display_name": "Python 3",
   "language": "python",
   "name": "python3"
  },
  "language_info": {
   "codemirror_mode": {
    "name": "ipython",
    "version": 3
   },
   "file_extension": ".py",
   "mimetype": "text/x-python",
   "name": "python",
   "nbconvert_exporter": "python",
   "pygments_lexer": "ipython3",
   "version": "3.7.3"
  }
 },
 "nbformat": 4,
 "nbformat_minor": 2
}
