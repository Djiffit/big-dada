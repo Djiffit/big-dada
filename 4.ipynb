{
 "cells": [
  {
   "cell_type": "markdown",
   "metadata": {},
   "source": [
    "# 1\n",
    "\n",
    "A) SELECT name FROM student WHERE class=4 AND major='cs';\n",
    "\n",
    "B) SELECT COURSE.Course_name from COURSE INNER JOIN (SELECT * FROM SECTION WHERE instructor='King' AND YEAR in ('07', '08')) as B ON B.Course_number = COURSE.Course_number;\n",
    "\n",
    "C) SELECT MAX(COURSE.Course_name) as name, MAX(COURSE.Course_number) as course_id, MAX(B.Semester) as semester, MAX(B.Year) as year, COUNT(GRADE_REPORT.Student_number) as attendants from COURSE INNER JOIN (SELECT * FROM SECTION WHERE instructor='King') as B ON B.Course_number = COURSE.Course_number LEFT JOIN GRADE_REPORT ON B.Section_identifier = GRADE_REPORT.Section_identifier GROUP BY B.Section_identifier;\n",
    "\n",
    "D) SELECT student.name, section.Course_number, course.credit_hours, section.semester, section.year, grade_report.grade FROM grade_report LEFT JOIN SECTION on section.section_identifier = grade_report.section_identifier LEFT JOIN student on student.student_number = grade_report.student_number LEFT JOIN course on course.Course_number = section.course_number WHERE student.Class = 4 and student.Major = 'CS';\n"
   ]
  },
  {
   "cell_type": "markdown",
   "metadata": {},
   "source": [
    "# 2\n",
    "\n",
    "CREATE VIEW monitor AS SELECT project.project_name, MAX(department.department_name) as department_name, count(employee.SSN) as num_employees, SUM(WORKS_ON.hours) as total_hours FROM WORKS_ON LEFT JOIN EMPLOYEE on WORKS_ON.employee_ssn = employee.ssn LEFT JOIN PROJECT ON project.project_no = works_on.project_no LEFT JOIN DEPARTMENT on department.department_no = project.department_no GROUP BY project.project_no;\n",
    "\n"
   ]
  },
  {
   "cell_type": "markdown",
   "metadata": {},
   "source": [
    "# 3\n",
    "\n",
    "a) SELECT DISTINCT pname FROM CATALOG LEFT JOIN SUPPLIERS ON suppliers.sid = catalog.sid LEFT JOIN PARTS ON Catalog.pid = parts.pid;\n",
    "\n",
    "b) SELECT parts.pname, sub.pid FROM (SELECT pid, MAX(sname) as sname FROM Catalog LEFT JOIN Suppliers on suppliers.sid = catalog.sid group by pid having count(DISTINCT catalog.sid) = 1) as sub LEFT JOIN PARTS on parts.pid = sub.pid WHERE sub.sname = 'Acme Widget Suppliers';\n",
    "\n",
    "c) SELECT cq.sid, cq.name, cq.parts FROM (SELECT suppliers.sname as name, suppliers.sid, MAX(parts.color) as color, COUNT(parts.pid) as parts FROM Suppliers RIGHT JOIN Catalog on catalog.sid = suppliers.sid LEFT JOIN parts on parts.pid = catalog.pid group by suppliers.sid having COUNT(distinct color) = 1) as cq WHERE color='GREEN';\n",
    "\n"
   ]
  },
  {
   "cell_type": "markdown",
   "metadata": {},
   "source": [
    "# 4\n",
    "\n",
    "(D) Deadlock-freedom"
   ]
  }
 ],
 "metadata": {
  "kernelspec": {
   "display_name": "Python 3",
   "language": "python",
   "name": "python3"
  },
  "language_info": {
   "name": ""
  }
 },
 "nbformat": 4,
 "nbformat_minor": 2
}
